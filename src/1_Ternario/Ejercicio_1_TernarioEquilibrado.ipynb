{
 "cells": [
  {
   "cell_type": "markdown",
   "id": "70ef3b0e",
   "metadata": {},
   "source": [
    "## Ejercicios accesibles en [el siguiente enlace](https://github.com/MauronMP/SPSI), creados por [Pablo Morenilla](https://github.com/MauronMP) y [Jaime Gallardo](https://github.com/JaimeGM96)."
   ]
  },
  {
   "cell_type": "markdown",
   "id": "7716a981",
   "metadata": {},
   "source": [
    "### Ejercicio 1, sistema ternario equilibrado.\n",
    "___\n",
    "\n",
    "Para todo número entero no nulo b existe una única representación ternaria equilibrada. Elabore un programa en python presentando al menos un fichero .ipynb que calcule la expresión ternaria equilibrada de cualquier número entero.\n",
    "\n",
    "##### Se ha hecho tanto en jupyter notebook como en python. La diferencia es mínima.\n",
    "\n",
    "Se denota para el sistema ternario:\n",
    "- 1 como +.\n",
    "- -1 como -.\n",
    "- 0 como 0"
   ]
  },
  {
   "cell_type": "code",
   "execution_count": 27,
   "id": "69bed4f1",
   "metadata": {},
   "outputs": [],
   "source": [
    "class TernarioEquilibrado:\n",
    "\n",
    "    numACadena = {1: '+', -1: '-', 0: '0'}\n",
    "\n",
    "    #Inicializador que comprueba si es un entero o no.\n",
    "    def __init__(self, inp):\n",
    "        if isinstance(inp, int):\n",
    "            self.digits = self._enteroATernario(inp)\n",
    "        else:\n",
    "            raise TypeError(\"Introducido un valor erroneo.\")\n",
    "\n",
    "    @staticmethod\n",
    "    def _enteroATernario(n):\n",
    "        if n == 0: return []\n",
    "        if (n % 3) == 0: return [0] + TernarioEquilibrado._enteroATernario(n // 3)\n",
    "        if (n % 3) == 1: return [1] + TernarioEquilibrado._enteroATernario(n // 3)\n",
    "        if (n % 3) == 2: return [-1] + TernarioEquilibrado._enteroATernario((n + 1) // 3)\n",
    "\n",
    "    #Metodo especial de python para representar objetos como cadenas de tipo string.\n",
    "    def __repr__(self):\n",
    "        if not self.digits: return \"0\"\n",
    "        return \"\".join(TernarioEquilibrado.numACadena[d] for d in reversed(self.digits))\n",
    "\n",
    "\n",
    "\n",
    "def main():\n",
    "    \n",
    "    print(\"\\n*****************************************************\")\n",
    "    print(\"Denotamos al 1 como +, el -1 como - y el 0 como 0\")\n",
    "\n",
    "    print (\"\\nNumero decimal: \", 10, \" ternario balanceado: \", TernarioEquilibrado(int(10)))\n",
    "    print (\"Numero decimal: \", -10, \" ternario balanceado: \", TernarioEquilibrado(int(-10)))\n",
    "    print (\"Numero decimal: \", 0, \" ternario balanceado: \", TernarioEquilibrado(int(0)))\n",
    "    print (\"Numero decimal: \", 2, \" ternario balanceado: \", TernarioEquilibrado(int(2)))\n",
    "\n",
    "\n",
    "    print(\"*****************************************************\")"
   ]
  },
  {
   "cell_type": "code",
   "execution_count": 28,
   "id": "7809c064",
   "metadata": {},
   "outputs": [
    {
     "name": "stdout",
     "output_type": "stream",
     "text": [
      "\n",
      "*****************************************************\n",
      "Denotamos al 1 como +, el -1 como - y el 0 como 0\n",
      "\n",
      "Numero decimal:  10  ternario balanceado:  +0+\n",
      "Numero decimal:  -10  ternario balanceado:  -0-\n",
      "Numero decimal:  0  ternario balanceado:  0\n",
      "Numero decimal:  2  ternario balanceado:  +-\n",
      "*****************************************************\n"
     ]
    }
   ],
   "source": [
    "main()"
   ]
  },
  {
   "cell_type": "code",
   "execution_count": null,
   "id": "6c30e014",
   "metadata": {},
   "outputs": [],
   "source": []
  }
 ],
 "metadata": {
  "kernelspec": {
   "display_name": "SageMath 9.0",
   "language": "sage",
   "name": "sagemath"
  },
  "language_info": {
   "codemirror_mode": {
    "name": "ipython",
    "version": 3
   },
   "file_extension": ".py",
   "mimetype": "text/x-python",
   "name": "python",
   "nbconvert_exporter": "python",
   "pygments_lexer": "ipython3",
   "version": "3.8.10"
  }
 },
 "nbformat": 4,
 "nbformat_minor": 5
}
